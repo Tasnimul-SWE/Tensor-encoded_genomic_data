{
 "cells": [
  {
   "cell_type": "code",
   "execution_count": 1,
   "metadata": {},
   "outputs": [
    {
     "data": {
      "text/html": [
       "<div>\n",
       "<style scoped>\n",
       "    .dataframe tbody tr th:only-of-type {\n",
       "        vertical-align: middle;\n",
       "    }\n",
       "\n",
       "    .dataframe tbody tr th {\n",
       "        vertical-align: top;\n",
       "    }\n",
       "\n",
       "    .dataframe thead th {\n",
       "        text-align: right;\n",
       "    }\n",
       "</style>\n",
       "<table border=\"1\" class=\"dataframe\">\n",
       "  <thead>\n",
       "    <tr style=\"text-align: right;\">\n",
       "      <th></th>\n",
       "      <th>KEGG_ID</th>\n",
       "      <th>Pathway_Name</th>\n",
       "    </tr>\n",
       "  </thead>\n",
       "  <tbody>\n",
       "    <tr>\n",
       "      <th>0</th>\n",
       "      <td>hsa01100</td>\n",
       "      <td>Metabolic pathways - Homo sapiens (human)</td>\n",
       "    </tr>\n",
       "    <tr>\n",
       "      <th>1</th>\n",
       "      <td>hsa01200</td>\n",
       "      <td>Carbon metabolism - Homo sapiens (human)</td>\n",
       "    </tr>\n",
       "    <tr>\n",
       "      <th>2</th>\n",
       "      <td>hsa01210</td>\n",
       "      <td>2-Oxocarboxylic acid metabolism - Homo sapiens...</td>\n",
       "    </tr>\n",
       "    <tr>\n",
       "      <th>3</th>\n",
       "      <td>hsa01212</td>\n",
       "      <td>Fatty acid metabolism - Homo sapiens (human)</td>\n",
       "    </tr>\n",
       "    <tr>\n",
       "      <th>4</th>\n",
       "      <td>hsa01230</td>\n",
       "      <td>Biosynthesis of amino acids - Homo sapiens (hu...</td>\n",
       "    </tr>\n",
       "  </tbody>\n",
       "</table>\n",
       "</div>"
      ],
      "text/plain": [
       "    KEGG_ID                                       Pathway_Name\n",
       "0  hsa01100          Metabolic pathways - Homo sapiens (human)\n",
       "1  hsa01200           Carbon metabolism - Homo sapiens (human)\n",
       "2  hsa01210  2-Oxocarboxylic acid metabolism - Homo sapiens...\n",
       "3  hsa01212       Fatty acid metabolism - Homo sapiens (human)\n",
       "4  hsa01230  Biosynthesis of amino acids - Homo sapiens (hu..."
      ]
     },
     "execution_count": 1,
     "metadata": {},
     "output_type": "execute_result"
    }
   ],
   "source": [
    "import requests\n",
    "import pandas as pd\n",
    "\n",
    "# Step 1: Get all human pathways from KEGG\n",
    "url = \"http://rest.kegg.jp/list/pathway/hsa\"\n",
    "response = requests.get(url)\n",
    "\n",
    "# Parse response into lines\n",
    "lines = response.text.strip().split(\"\\n\")\n",
    "\n",
    "# Extract KEGG ID and Pathway Name from each line\n",
    "data = []\n",
    "for line in lines:\n",
    "    kegg_id, name = line.split(\"\\t\")\n",
    "    kegg_id = kegg_id.replace(\"path:\", \"\")\n",
    "    data.append((kegg_id, name))\n",
    "\n",
    "# Create DataFrame\n",
    "df_pathways = pd.DataFrame(data, columns=[\"KEGG_ID\", \"Pathway_Name\"])\n",
    "df_pathways.head()  # Display first few rows\n"
   ]
  },
  {
   "cell_type": "code",
   "execution_count": 2,
   "metadata": {},
   "outputs": [],
   "source": [
    "df_pathways.to_csv(\"kegg_pathways.csv\", index=False)\n"
   ]
  },
  {
   "cell_type": "code",
   "execution_count": 4,
   "metadata": {},
   "outputs": [],
   "source": [
    "import pandas as pd\n",
    "\n",
    "# Load the uploaded pathway list CSV\n",
    "file_path = \"kegg_pathways.csv\"\n",
    "df_pathways = pd.read_csv(file_path)\n",
    "\n",
    "# Define keywords for identifying cancer- or disease-specific pathways\n",
    "keywords = [\"cancer\", \"carcinoma\", \"disease\", \"tumor\"]\n",
    "\n",
    "# Filter pathways using the keywords\n",
    "mask = df_pathways[\"Pathway_Name\"].str.lower().str.contains(\"|\".join(keywords))\n",
    "df_disease_related = df_pathways[mask]\n",
    "\n"
   ]
  },
  {
   "cell_type": "code",
   "execution_count": 5,
   "metadata": {},
   "outputs": [
    {
     "data": {
      "text/html": [
       "<div>\n",
       "<style scoped>\n",
       "    .dataframe tbody tr th:only-of-type {\n",
       "        vertical-align: middle;\n",
       "    }\n",
       "\n",
       "    .dataframe tbody tr th {\n",
       "        vertical-align: top;\n",
       "    }\n",
       "\n",
       "    .dataframe thead th {\n",
       "        text-align: right;\n",
       "    }\n",
       "</style>\n",
       "<table border=\"1\" class=\"dataframe\">\n",
       "  <thead>\n",
       "    <tr style=\"text-align: right;\">\n",
       "      <th></th>\n",
       "      <th>KEGG_ID</th>\n",
       "      <th>Pathway_Name</th>\n",
       "    </tr>\n",
       "  </thead>\n",
       "  <tbody>\n",
       "    <tr>\n",
       "      <th>270</th>\n",
       "      <td>hsa05200</td>\n",
       "      <td>Pathways in cancer - Homo sapiens (human)</td>\n",
       "    </tr>\n",
       "    <tr>\n",
       "      <th>271</th>\n",
       "      <td>hsa05202</td>\n",
       "      <td>Transcriptional misregulation in cancer - Homo...</td>\n",
       "    </tr>\n",
       "    <tr>\n",
       "      <th>272</th>\n",
       "      <td>hsa05206</td>\n",
       "      <td>MicroRNAs in cancer - Homo sapiens (human)</td>\n",
       "    </tr>\n",
       "    <tr>\n",
       "      <th>273</th>\n",
       "      <td>hsa05205</td>\n",
       "      <td>Proteoglycans in cancer - Homo sapiens (human)</td>\n",
       "    </tr>\n",
       "    <tr>\n",
       "      <th>278</th>\n",
       "      <td>hsa05230</td>\n",
       "      <td>Central carbon metabolism in cancer - Homo sap...</td>\n",
       "    </tr>\n",
       "  </tbody>\n",
       "</table>\n",
       "</div>"
      ],
      "text/plain": [
       "      KEGG_ID                                       Pathway_Name\n",
       "270  hsa05200          Pathways in cancer - Homo sapiens (human)\n",
       "271  hsa05202  Transcriptional misregulation in cancer - Homo...\n",
       "272  hsa05206         MicroRNAs in cancer - Homo sapiens (human)\n",
       "273  hsa05205     Proteoglycans in cancer - Homo sapiens (human)\n",
       "278  hsa05230  Central carbon metabolism in cancer - Homo sap..."
      ]
     },
     "execution_count": 5,
     "metadata": {},
     "output_type": "execute_result"
    }
   ],
   "source": [
    "df_disease_related.head()"
   ]
  },
  {
   "cell_type": "code",
   "execution_count": 6,
   "metadata": {},
   "outputs": [],
   "source": [
    "df_disease_related.to_csv(\"kegg_pathways_cancer.csv\", index=False)\n"
   ]
  },
  {
   "cell_type": "code",
   "execution_count": 7,
   "metadata": {},
   "outputs": [
    {
     "name": "stdout",
     "output_type": "stream",
     "text": [
      "Requirement already satisfied: tqdm in c:\\users\\hj4298\\appdata\\local\\programs\\python\\python310\\lib\\site-packages (4.67.1)\n",
      "Requirement already satisfied: colorama in c:\\users\\hj4298\\appdata\\roaming\\python\\python310\\site-packages (from tqdm) (0.4.6)\n",
      "Note: you may need to restart the kernel to use updated packages.\n"
     ]
    },
    {
     "name": "stderr",
     "output_type": "stream",
     "text": [
      "\n",
      "[notice] A new release of pip is available: 23.0.1 -> 25.1.1\n",
      "[notice] To update, run: python.exe -m pip install --upgrade pip\n"
     ]
    }
   ],
   "source": [
    "pip install tqdm\n"
   ]
  },
  {
   "cell_type": "code",
   "execution_count": 11,
   "metadata": {},
   "outputs": [
    {
     "name": "stderr",
     "output_type": "stream",
     "text": [
      "Processing pathways: 100%|██████████| 366/366 [06:38<00:00,  1.09s/it]\n"
     ]
    }
   ],
   "source": [
    "import requests\n",
    "import pandas as pd\n",
    "from tqdm import tqdm\n",
    "\n",
    "# Load your pathway list\n",
    "df_pathways = pd.read_csv(\"kegg_pathways.csv\")\n",
    "\n",
    "# Function to get genes for each pathway\n",
    "def get_genes_for_pathway(kegg_id):\n",
    "    url = f\"http://rest.kegg.jp/link/hsa/{kegg_id}\"\n",
    "    response = requests.get(url)\n",
    "    if response.ok and response.text.strip():\n",
    "        return [line.split(\"\\t\")[1].replace(\"hsa:\", \"\") for line in response.text.strip().split(\"\\n\")]\n",
    "    else:\n",
    "        print(f\"[WARNING] No data or error for: {kegg_id}\")\n",
    "        return []\n",
    "\n",
    "# Build mapping with progress bar\n",
    "pathway_gene_map = []\n",
    "for pid in tqdm(df_pathways[\"KEGG_ID\"], desc=\"Processing pathways\"):\n",
    "    genes = get_genes_for_pathway(pid)\n",
    "    for gene in genes:\n",
    "        pathway_gene_map.append((pid, gene))\n",
    "\n",
    "# Save results\n",
    "df_gene_map = pd.DataFrame(pathway_gene_map, columns=[\"Pathway_ID\", \"Gene_ID\"])\n",
    "df_gene_map.to_csv(\"kegg_pathway_to_gene.csv\", index=False)\n"
   ]
  },
  {
   "cell_type": "code",
   "execution_count": 20,
   "metadata": {},
   "outputs": [
    {
     "data": {
      "text/plain": [
       "8866"
      ]
     },
     "execution_count": 20,
     "metadata": {},
     "output_type": "execute_result"
    }
   ],
   "source": [
    "import pandas as pd\n",
    "\n",
    "# Load the uploaded CSV file\n",
    "file_path = \"kegg_pathway_to_gene.csv\"\n",
    "df = pd.read_csv(file_path)\n",
    "\n",
    "# Count unique values in the 'Gene_ID' column\n",
    "unique_gene_ids = df['Gene_ID'].nunique()\n",
    "unique_gene_ids"
   ]
  },
  {
   "cell_type": "code",
   "execution_count": 22,
   "metadata": {},
   "outputs": [
    {
     "name": "stdout",
     "output_type": "stream",
     "text": [
      "Collecting openpyxl\n",
      "  Downloading openpyxl-3.1.5-py2.py3-none-any.whl (250 kB)\n",
      "     ---------------------------------------- 0.0/250.9 kB ? eta -:--:--\n",
      "     --------------- ---------------------- 102.4/250.9 kB 3.0 MB/s eta 0:00:01\n",
      "     -------------------------------------  245.8/250.9 kB 3.0 MB/s eta 0:00:01\n",
      "     -------------------------------------- 250.9/250.9 kB 2.6 MB/s eta 0:00:00\n",
      "Collecting et-xmlfile\n",
      "  Downloading et_xmlfile-2.0.0-py3-none-any.whl (18 kB)\n",
      "Installing collected packages: et-xmlfile, openpyxl\n",
      "Successfully installed et-xmlfile-2.0.0 openpyxl-3.1.5\n",
      "Note: you may need to restart the kernel to use updated packages.\n"
     ]
    },
    {
     "name": "stderr",
     "output_type": "stream",
     "text": [
      "\n",
      "[notice] A new release of pip is available: 23.0.1 -> 25.1.1\n",
      "[notice] To update, run: python.exe -m pip install --upgrade pip\n"
     ]
    }
   ],
   "source": [
    "pip install openpyxl\n"
   ]
  },
  {
   "cell_type": "code",
   "execution_count": null,
   "metadata": {},
   "outputs": [],
   "source": [
    "import pandas as pd\n",
    "import requests\n",
    "from tqdm import tqdm\n",
    "import time\n",
    "\n",
    "# === Step 1: Load Gene List ===\n",
    "file_path = \"Gene_Symbol.xlsx\"\n",
    "df_genes = pd.read_excel(file_path)\n",
    "gene_symbols = df_genes.iloc[:, 0].dropna().unique()\n",
    "\n",
    "# === Step 2: Map Gene Symbols to Ensembl IDs ===\n",
    "gene_to_ensembl = {}\n",
    "print(\"🔍 Mapping gene symbols to Ensembl IDs...\")\n",
    "for gene in tqdm(gene_symbols):\n",
    "    try:\n",
    "        url = f\"https://rest.ensembl.org/xrefs/symbol/homo_sapiens/{gene}?\"\n",
    "        headers = {\"Content-Type\": \"application/json\"}\n",
    "        response = requests.get(url, headers=headers)\n",
    "        if response.ok:\n",
    "            data = response.json()\n",
    "            gene_id = next((item[\"id\"] for item in data if item[\"type\"] == \"gene\"), None)\n",
    "            if gene_id:\n",
    "                gene_to_ensembl[gene] = gene_id\n",
    "    except:\n",
    "        continue\n",
    "\n",
    "# === Step 3: Get Variants for Each Ensembl Gene ID ===\n",
    "gene_to_variants = {}\n",
    "print(\"🧬 Fetching variants for mapped genes...\")\n",
    "for gene, ensembl_id in tqdm(gene_to_ensembl.items()):\n",
    "    try:\n",
    "        url = f\"https://rest.ensembl.org/overlap/id/{ensembl_id}?feature=variation\"\n",
    "        headers = {\"Content-Type\": \"application/json\"}\n",
    "        response = requests.get(url, headers=headers)\n",
    "        if response.ok:\n",
    "            variants = response.json()\n",
    "            gene_to_variants[gene] = [v[\"id\"] for v in variants if \"id\" in v]\n",
    "        else:\n",
    "            gene_to_variants[gene] = []\n",
    "    except:\n",
    "        gene_to_variants[gene] = []\n",
    "\n",
    "# === Step 4: Fetch Detailed Variant Info ===\n",
    "def get_variant_details(variant_id):\n",
    "    try:\n",
    "        url = f\"https://rest.ensembl.org/variation/human/{variant_id}?\"\n",
    "        headers = {\"Content-Type\": \"application/json\"}\n",
    "        response = requests.get(url, headers=headers)\n",
    "        if response.ok:\n",
    "            data = response.json()\n",
    "            consequence = data.get(\"most_severe_consequence\", \"N/A\")\n",
    "            allele_string = data.get(\"mappings\", [{}])[0].get(\"allele_string\", \"N/A\")\n",
    "            if \"/\" in allele_string:\n",
    "                ref, alt = allele_string.split(\"/\")\n",
    "            else:\n",
    "                ref, alt = \"N/A\", \"N/A\"\n",
    "            substitution = f\"{ref}→{alt}\"\n",
    "            return consequence, substitution\n",
    "        else:\n",
    "            return \"N/A\", \"N/A\"\n",
    "    except:\n",
    "        return \"N/A\", \"N/A\"\n",
    "\n",
    "# === Step 5: Build Final Enriched Variant Table ===\n",
    "detailed_variant_data = []\n",
    "print(\"🔎 Fetching variant details for each variant...\")\n",
    "for gene, variants in tqdm(gene_to_variants.items()):\n",
    "    ensembl_id = gene_to_ensembl.get(gene, \"N/A\")\n",
    "    for var in variants:\n",
    "        consequence, substitution = get_variant_details(var)\n",
    "        detailed_variant_data.append({\n",
    "            \"Gene_Symbol\": gene,\n",
    "            \"Ensembl_ID\": ensembl_id,\n",
    "            \"Variant_ID\": var,\n",
    "            \"Variant_Consequence\": consequence,\n",
    "            \"Base_Substitution\": substitution\n",
    "        })\n",
    "        time.sleep(0.1)  # polite delay to avoid throttling\n",
    "\n",
    "# === Step 6: Save to CSV ===\n",
    "df_full = pd.DataFrame(detailed_variant_data)\n",
    "df_full.to_csv(\"gene_to_variants_latest_file.csv\", index=False)\n",
    "print(\"✅ Saved enriched variant data to 'gene_to_variants_latest_file.csv'\")\n"
   ]
  }
 ],
 "metadata": {
  "kernelspec": {
   "display_name": "Python 3",
   "language": "python",
   "name": "python3"
  },
  "language_info": {
   "codemirror_mode": {
    "name": "ipython",
    "version": 3
   },
   "file_extension": ".py",
   "mimetype": "text/x-python",
   "name": "python",
   "nbconvert_exporter": "python",
   "pygments_lexer": "ipython3",
   "version": "3.10.11"
  }
 },
 "nbformat": 4,
 "nbformat_minor": 2
}
